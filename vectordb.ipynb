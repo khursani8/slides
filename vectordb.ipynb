{
 "cells": [
  {
   "cell_type": "raw",
   "id": "39a0e71f-fe63-4a10-9c79-37adf58bedac",
   "metadata": {
    "raw_mimetype": "",
    "slideshow": {
     "slide_type": "skip"
    },
    "tags": []
   },
   "source": [
    "1. what is vector\n",
    "2. when/why to use vector\n",
    "3. where to store vector\n",
    "4. how to retrieve vector"
   ]
  },
  {
   "cell_type": "markdown",
   "id": "a719582a-fdc4-48a2-8a7c-5f0a3ee1d7ba",
   "metadata": {},
   "source": [
    "https://notebooks.gesis.org/binder/jupyter/user/khursani8-slides-yksujzg2/notebooks/1.%20computer_vision%28student%29.ipynb#/slide-10-0"
   ]
  },
  {
   "cell_type": "code",
   "execution_count": 13,
   "id": "245e1298",
   "metadata": {},
   "outputs": [
    {
     "data": {
      "text/html": [
       "\n",
       "  <script>\n",
       "  $('img').css({display:'block',\"margin-left\":\"auto\",\"margin-right\":\"auto\"})\n",
       "  $('h2').css({\"text-align\": 'center'})\n",
       "  </script>\n",
       "  "
      ],
      "text/plain": [
       "<IPython.core.display.HTML object>"
      ]
     },
     "execution_count": 13,
     "metadata": {},
     "output_type": "execute_result"
    }
   ],
   "source": [
    "from IPython.display import HTML\n",
    "html1 = '''\n",
    "  <script>\n",
    "  $('img').css({display:'block',\"margin-left\":\"auto\",\"margin-right\":\"auto\"})\n",
    "  $('h2').css({\"text-align\": 'center'})\n",
    "  </script>\n",
    "  '''\n",
    "HTML(html1)"
   ]
  },
  {
   "cell_type": "markdown",
   "id": "510ab3e1-01a6-4fa3-ab8e-c727cd21b3b2",
   "metadata": {
    "slideshow": {
     "slide_type": "slide"
    },
    "tags": []
   },
   "source": [
    "## What is Vector"
   ]
  },
  {
   "cell_type": "markdown",
   "id": "61e581e4-6720-4aa9-8c28-0c3474a2a39d",
   "metadata": {
    "slideshow": {
     "slide_type": "subslide"
    },
    "tags": []
   },
   "source": [
    "## What is Vector\n",
    "![](./vector.png)"
   ]
  },
  {
   "cell_type": "markdown",
   "id": "740e06f5-d81a-4a6b-b476-df89229bc3fd",
   "metadata": {
    "slideshow": {
     "slide_type": "subslide"
    },
    "tags": []
   },
   "source": [
    "![](./vec.png)"
   ]
  },
  {
   "cell_type": "markdown",
   "id": "fe75fc18-57fd-4583-83ba-24dd68467b2c",
   "metadata": {
    "slideshow": {
     "slide_type": ""
    },
    "tags": []
   },
   "source": [
    "### references\n",
    "1. https://mathinsight.org/vector_introduction"
   ]
  },
  {
   "cell_type": "markdown",
   "id": "a16f791e-64fd-4f2a-9811-9ce9bab9e015",
   "metadata": {
    "slideshow": {
     "slide_type": "slide"
    },
    "tags": []
   },
   "source": [
    "## when/why to use vector"
   ]
  },
  {
   "cell_type": "code",
   "execution_count": null,
   "id": "f315f726-e226-4182-b835-660ab821d9a7",
   "metadata": {
    "slideshow": {
     "slide_type": ""
    },
    "tags": []
   },
   "outputs": [],
   "source": []
  },
  {
   "cell_type": "markdown",
   "id": "5c44edf3-d5a5-4224-997e-bdca0f369445",
   "metadata": {},
   "source": [
    "## where to store vector"
   ]
  },
  {
   "cell_type": "code",
   "execution_count": null,
   "id": "aaf3ce05-ff42-4834-b2ac-dbf41ff0624c",
   "metadata": {},
   "outputs": [],
   "source": []
  },
  {
   "cell_type": "markdown",
   "id": "b3a7f764-ec9c-4595-b789-1d436ff492ce",
   "metadata": {},
   "source": [
    "## how to retrieve vector"
   ]
  },
  {
   "cell_type": "code",
   "execution_count": null,
   "id": "2576855d-587c-453e-bdd1-1c6e1dff765b",
   "metadata": {},
   "outputs": [],
   "source": []
  }
 ],
 "metadata": {
  "kernelspec": {
   "display_name": "Python 3 (ipykernel)",
   "language": "python",
   "name": "python3"
  },
  "language_info": {
   "codemirror_mode": {
    "name": "ipython",
    "version": 3
   },
   "file_extension": ".py",
   "mimetype": "text/x-python",
   "name": "python",
   "nbconvert_exporter": "python",
   "pygments_lexer": "ipython3",
   "version": "3.10.14"
  }
 },
 "nbformat": 4,
 "nbformat_minor": 5
}
